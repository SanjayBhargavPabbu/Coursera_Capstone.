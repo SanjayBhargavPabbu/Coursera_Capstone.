{
    "cells": [
        {
            "cell_type": "markdown",
            "metadata": {
                "colab_type": "text",
                "id": "ERAABR6Dgsy5"
            },
            "source": "\n<h1 align=\"center\"> Battle of the Neighbourhoods - Toronto </h1>"
        },
        {
            "cell_type": "markdown",
            "metadata": {
                "colab_type": "text",
                "id": "cJ8cA9KwhpsE"
            },
            "source": "Author: Sanjay Bhargav Pabbu"
        },
        {
            "cell_type": "markdown",
            "metadata": {
                "colab_type": "text",
                "id": "VD4pf99BtHi2"
            },
            "source": "# Question 3"
        },
        {
            "cell_type": "markdown",
            "metadata": {
                "colab_type": "text",
                "id": "4IeqtDxzRxUV"
            },
            "source": "Drawing inspiration from the previous lab where we cluster the neighbourhood of NYC, We cluster Toronto based on the similarities of the venues categories using Kmeans clustering and Foursquare API."
        },
        {
            "cell_type": "code",
            "execution_count": null,
            "metadata": {
                "colab": {},
                "colab_type": "code",
                "executionInfo": {
                    "elapsed": 14234,
                    "status": "ok",
                    "timestamp": 1597498805188,
                    "user": {
                        "displayName": "Thomas George Thomas",
                        "photoUrl": "https://lh3.googleusercontent.com/a-/AOh14GhRjmtno5yCmJOUjYiFNGHi_xP5YZBJ1ZpWGKsZ=s64",
                        "userId": "09561174857978505545"
                    },
                    "user_tz": -330
                },
                "id": "wTVVWScqtKKh"
            },
            "outputs": [],
            "source": "from geopy.geocoders import Nominatim "
        },
        {
            "cell_type": "code",
            "execution_count": null,
            "metadata": {
                "colab": {
                    "base_uri": "https://localhost:8080/",
                    "height": 34
                },
                "colab_type": "code",
                "executionInfo": {
                    "elapsed": 15543,
                    "status": "ok",
                    "timestamp": 1597498806514,
                    "user": {
                        "displayName": "Thomas George Thomas",
                        "photoUrl": "https://lh3.googleusercontent.com/a-/AOh14GhRjmtno5yCmJOUjYiFNGHi_xP5YZBJ1ZpWGKsZ=s64",
                        "userId": "09561174857978505545"
                    },
                    "user_tz": -330
                },
                "id": "9u5kNj_LTC5z",
                "outputId": "52eea32c-eb50-41d7-c163-71f0286c4954"
            },
            "outputs": [],
            "source": "address = 'Toronto, Ontario'\n\ngeolocator = Nominatim(user_agent=\"toronto_explorer\")\nlocation = geolocator.geocode(address)\nlatitude = location.latitude\nlongitude = location.longitude\nprint('The coordinates of Toronto are {}, {}.'.format(latitude, longitude))"
        },
        {
            "cell_type": "markdown",
            "metadata": {
                "colab_type": "text",
                "id": "seiKLd-3Tfpm"
            },
            "source": "Let's visualize the map of Toronto"
        },
        {
            "cell_type": "code",
            "execution_count": null,
            "metadata": {
                "colab": {},
                "colab_type": "code",
                "executionInfo": {
                    "elapsed": 15538,
                    "status": "ok",
                    "timestamp": 1597498806516,
                    "user": {
                        "displayName": "Thomas George Thomas",
                        "photoUrl": "https://lh3.googleusercontent.com/a-/AOh14GhRjmtno5yCmJOUjYiFNGHi_xP5YZBJ1ZpWGKsZ=s64",
                        "userId": "09561174857978505545"
                    },
                    "user_tz": -330
                },
                "id": "PbEx0_rATl2P"
            },
            "outputs": [],
            "source": "import folium"
        },
        {
            "cell_type": "code",
            "execution_count": null,
            "metadata": {
                "colab": {
                    "base_uri": "https://localhost:8080/",
                    "height": 743
                },
                "colab_type": "code",
                "executionInfo": {
                    "elapsed": 1101,
                    "status": "ok",
                    "timestamp": 1597499445471,
                    "user": {
                        "displayName": "Thomas George Thomas",
                        "photoUrl": "https://lh3.googleusercontent.com/a-/AOh14GhRjmtno5yCmJOUjYiFNGHi_xP5YZBJ1ZpWGKsZ=s64",
                        "userId": "09561174857978505545"
                    },
                    "user_tz": -330
                },
                "id": "jD5bfsKvTbP0",
                "outputId": "fd95bb29-2e56-4111-8881-0b9a3094b627"
            },
            "outputs": [],
            "source": "# Creating the map of Toronto\nmap_Toronto = folium.Map(location=[latitude, longitude], zoom_start=11)\n\n# adding markers to map\nfor latitude, longitude, borough, neighbourhood in zip(combined_data['Latitude'], combined_data['Longitude'], combined_data['Borough'], combined_data['Neighbourhood']):\n    label = '{}, {}'.format(neighbourhood, borough)\n    label = folium.Popup(label, parse_html=True)\n    folium.CircleMarker(\n        [latitude, longitude],\n        radius=5,\n        popup=label,\n        color='red',\n        fill=True\n        ).add_to(map_Toronto)  \n    \nmap_Toronto"
        },
        {
            "cell_type": "markdown",
            "metadata": {
                "colab_type": "text",
                "id": "t33pXwdTV-1O"
            },
            "source": "Initializing Foursquare API credentials"
        },
        {
            "cell_type": "code",
            "execution_count": null,
            "metadata": {
                "colab": {
                    "base_uri": "https://localhost:8080/",
                    "height": 68
                },
                "colab_type": "code",
                "executionInfo": {
                    "elapsed": 1055,
                    "status": "ok",
                    "timestamp": 1597498859413,
                    "user": {
                        "displayName": "Thomas George Thomas",
                        "photoUrl": "https://lh3.googleusercontent.com/a-/AOh14GhRjmtno5yCmJOUjYiFNGHi_xP5YZBJ1ZpWGKsZ=s64",
                        "userId": "09561174857978505545"
                    },
                    "user_tz": -330
                },
                "id": "h_3CK9wRT3rs",
                "outputId": "b761e330-40cd-44b6-e0e5-71248cba98fe"
            },
            "outputs": [],
            "source": "CLIENT_ID = 'LDIJF4KI5VGMMA3NNDLFZWHR12TCMNTUL0TUC3QPZ3SJD040' \nCLIENT_SECRET = 'EOOOZ3EF5N0FOMNUJVTDV0SXVUVVEBMWPFXMNBK1R5K4H55A'\nVERSION = '20180605' # Foursquare API version\n\nprint('Your credentails:')\nprint('CLIENT_ID: ' + CLIENT_ID)\nprint('CLIENT_SECRET:' + CLIENT_SECRET)"
        },
        {
            "cell_type": "markdown",
            "metadata": {
                "colab_type": "text",
                "id": "hqjYx2M1WW-c"
            },
            "source": "Next, we create a function to get all the venue categories in Toronto"
        },
        {
            "cell_type": "code",
            "execution_count": null,
            "metadata": {
                "colab": {},
                "colab_type": "code",
                "executionInfo": {
                    "elapsed": 1182,
                    "status": "ok",
                    "timestamp": 1597498863148,
                    "user": {
                        "displayName": "Thomas George Thomas",
                        "photoUrl": "https://lh3.googleusercontent.com/a-/AOh14GhRjmtno5yCmJOUjYiFNGHi_xP5YZBJ1ZpWGKsZ=s64",
                        "userId": "09561174857978505545"
                    },
                    "user_tz": -330
                },
                "id": "eEzXOTWNWLi0"
            },
            "outputs": [],
            "source": "def getNearbyVenues(names, latitudes, longitudes, radius=500):\n    \n    venues_list=[]\n    for name, lat, lng in zip(names, latitudes, longitudes):\n        print(name)\n            \n        # create the API request URL\n        url = 'https://api.foursquare.com/v2/venues/explore?&client_id={}&client_secret={}&v={}&ll={},{}&radius={}'.format(\n            CLIENT_ID, \n            CLIENT_SECRET, \n            VERSION, \n            lat, \n            lng, \n            radius\n            )\n            \n        # make the GET request\n        results = requests.get(url).json()[\"response\"]['groups'][0]['items']\n        \n        # return only relevant information for each nearby venue\n        venues_list.append([(\n            name, \n            lat, \n            lng, \n            v['venue']['name'], \n            v['venue']['categories'][0]['name']) for v in results])\n\n    nearby_venues = pd.DataFrame([item for venue_list in venues_list for item in venue_list])\n    nearby_venues.columns = ['Neighbourhood', \n                  'Neighbourhood Latitude', \n                  'Neighbourhood Longitude', \n                  'Venue', \n                  'Venue Category']\n    \n    return(nearby_venues)"
        },
        {
            "cell_type": "markdown",
            "metadata": {
                "colab_type": "text",
                "id": "r3C3JQ6XW7Uk"
            },
            "source": "Collecting the venues in Toronto for each Neighbourhood"
        },
        {
            "cell_type": "code",
            "execution_count": null,
            "metadata": {
                "colab": {
                    "base_uri": "https://localhost:8080/",
                    "height": 1000
                },
                "colab_type": "code",
                "executionInfo": {
                    "elapsed": 85413,
                    "status": "ok",
                    "timestamp": 1597498951143,
                    "user": {
                        "displayName": "Thomas George Thomas",
                        "photoUrl": "https://lh3.googleusercontent.com/a-/AOh14GhRjmtno5yCmJOUjYiFNGHi_xP5YZBJ1ZpWGKsZ=s64",
                        "userId": "09561174857978505545"
                    },
                    "user_tz": -330
                },
                "id": "sNSD-GGpW5Ak",
                "outputId": "57d4cd08-5fae-4d3d-a095-995683e6d34d"
            },
            "outputs": [],
            "source": "venues_in_toronto = getNearbyVenues(combined_data['Neighbourhood'], combined_data['Latitude'], combined_data['Longitude'])"
        },
        {
            "cell_type": "code",
            "execution_count": null,
            "metadata": {
                "colab": {
                    "base_uri": "https://localhost:8080/",
                    "height": 34
                },
                "colab_type": "code",
                "executionInfo": {
                    "elapsed": 1056,
                    "status": "ok",
                    "timestamp": 1597498952236,
                    "user": {
                        "displayName": "Thomas George Thomas",
                        "photoUrl": "https://lh3.googleusercontent.com/a-/AOh14GhRjmtno5yCmJOUjYiFNGHi_xP5YZBJ1ZpWGKsZ=s64",
                        "userId": "09561174857978505545"
                    },
                    "user_tz": -330
                },
                "id": "mWajIR41XbzY",
                "outputId": "e339c559-9c27-420b-9302-4566cb61e181"
            },
            "outputs": [],
            "source": "venues_in_toronto.shape"
        },
        {
            "cell_type": "markdown",
            "metadata": {
                "colab_type": "text",
                "id": "MYazJWn5Z02L"
            },
            "source": "So we have 1317 records and 5 columns. Checking sample data\n"
        },
        {
            "cell_type": "code",
            "execution_count": null,
            "metadata": {
                "colab": {
                    "base_uri": "https://localhost:8080/",
                    "height": 204
                },
                "colab_type": "code",
                "executionInfo": {
                    "elapsed": 1037,
                    "status": "ok",
                    "timestamp": 1597498952237,
                    "user": {
                        "displayName": "Thomas George Thomas",
                        "photoUrl": "https://lh3.googleusercontent.com/a-/AOh14GhRjmtno5yCmJOUjYiFNGHi_xP5YZBJ1ZpWGKsZ=s64",
                        "userId": "09561174857978505545"
                    },
                    "user_tz": -330
                },
                "id": "y87jJksZZvE9",
                "outputId": "fb1d0e7f-6651-4b5c-bd4f-b0465d33fe46"
            },
            "outputs": [],
            "source": "venues_in_toronto.head()"
        },
        {
            "cell_type": "markdown",
            "metadata": {
                "colab_type": "text",
                "id": "p3TmnMe1edmz"
            },
            "source": "Checking the Venues based on Neighbourhood"
        },
        {
            "cell_type": "code",
            "execution_count": null,
            "metadata": {
                "colab": {
                    "base_uri": "https://localhost:8080/",
                    "height": 419
                },
                "colab_type": "code",
                "executionInfo": {
                    "elapsed": 1022,
                    "status": "ok",
                    "timestamp": 1597498952239,
                    "user": {
                        "displayName": "Thomas George Thomas",
                        "photoUrl": "https://lh3.googleusercontent.com/a-/AOh14GhRjmtno5yCmJOUjYiFNGHi_xP5YZBJ1ZpWGKsZ=s64",
                        "userId": "09561174857978505545"
                    },
                    "user_tz": -330
                },
                "id": "_EYXBqxkZ7E3",
                "outputId": "94e45678-836b-4e10-d7ef-e47dcc6ebf4c"
            },
            "outputs": [],
            "source": "venues_in_toronto.groupby('Neighbourhood').head()"
        },
        {
            "cell_type": "markdown",
            "metadata": {
                "colab_type": "text",
                "id": "uVLIXh3HepjM"
            },
            "source": "So there are 405 records for each neighbourhood.\n\nChecking for the maximum venue categories"
        },
        {
            "cell_type": "code",
            "execution_count": null,
            "metadata": {
                "colab": {
                    "base_uri": "https://localhost:8080/",
                    "height": 450
                },
                "colab_type": "code",
                "executionInfo": {
                    "elapsed": 1339,
                    "status": "ok",
                    "timestamp": 1597498952571,
                    "user": {
                        "displayName": "Thomas George Thomas",
                        "photoUrl": "https://lh3.googleusercontent.com/a-/AOh14GhRjmtno5yCmJOUjYiFNGHi_xP5YZBJ1ZpWGKsZ=s64",
                        "userId": "09561174857978505545"
                    },
                    "user_tz": -330
                },
                "id": "OelLBmpbc-0a",
                "outputId": "d40cbf01-0c93-421d-892e-808752e4555a"
            },
            "outputs": [],
            "source": "venues_in_toronto.groupby('Venue Category').max()"
        },
        {
            "cell_type": "markdown",
            "metadata": {
                "colab_type": "text",
                "id": "8Zz5ulsMfDOK"
            },
            "source": "There are around 232 different types of Venue Categories. Interesting!"
        },
        {
            "cell_type": "markdown",
            "metadata": {
                "colab_type": "text",
                "id": "jm_UpNpLf7CL"
            },
            "source": "## One Hot encoding the venue Categories"
        },
        {
            "cell_type": "code",
            "execution_count": null,
            "metadata": {
                "colab": {
                    "base_uri": "https://localhost:8080/",
                    "height": 473
                },
                "colab_type": "code",
                "executionInfo": {
                    "elapsed": 1325,
                    "status": "ok",
                    "timestamp": 1597498952572,
                    "user": {
                        "displayName": "Thomas George Thomas",
                        "photoUrl": "https://lh3.googleusercontent.com/a-/AOh14GhRjmtno5yCmJOUjYiFNGHi_xP5YZBJ1ZpWGKsZ=s64",
                        "userId": "09561174857978505545"
                    },
                    "user_tz": -330
                },
                "id": "JfBRo4eqe3Pt",
                "outputId": "513e4630-dfb0-4fc6-b8e6-0e03409208a6"
            },
            "outputs": [],
            "source": "toronto_venue_cat = pd.get_dummies(venues_in_toronto[['Venue Category']], prefix=\"\", prefix_sep=\"\")\ntoronto_venue_cat"
        },
        {
            "cell_type": "markdown",
            "metadata": {
                "colab_type": "text",
                "id": "sPcSsdHTgQxY"
            },
            "source": "Adding the neighbourhood to the encoded dataframe"
        },
        {
            "cell_type": "code",
            "execution_count": null,
            "metadata": {
                "colab": {
                    "base_uri": "https://localhost:8080/",
                    "height": 287
                },
                "colab_type": "code",
                "executionInfo": {
                    "elapsed": 1310,
                    "status": "ok",
                    "timestamp": 1597498952574,
                    "user": {
                        "displayName": "Thomas George Thomas",
                        "photoUrl": "https://lh3.googleusercontent.com/a-/AOh14GhRjmtno5yCmJOUjYiFNGHi_xP5YZBJ1ZpWGKsZ=s64",
                        "userId": "09561174857978505545"
                    },
                    "user_tz": -330
                },
                "id": "EAi3ShqvgL5Q",
                "outputId": "7c038ca1-10f1-45ca-c20e-95541328b8cf"
            },
            "outputs": [],
            "source": "toronto_venue_cat['Neighbourhood'] = venues_in_toronto['Neighbourhood'] \n\n# moving neighborhood column to the first column\nfixed_columns = [toronto_venue_cat.columns[-1]] + list(toronto_venue_cat.columns[:-1])\ntoronto_venue_cat = toronto_venue_cat[fixed_columns]\n\ntoronto_venue_cat.head()"
        },
        {
            "cell_type": "markdown",
            "metadata": {
                "colab_type": "text",
                "id": "oawCyCfkg6xv"
            },
            "source": "We will group the Neighbourhoods, calculate the mean venue categories in each Neighbourhood "
        },
        {
            "cell_type": "code",
            "execution_count": null,
            "metadata": {
                "colab": {
                    "base_uri": "https://localhost:8080/",
                    "height": 389
                },
                "colab_type": "code",
                "executionInfo": {
                    "elapsed": 1666,
                    "status": "ok",
                    "timestamp": 1597498952945,
                    "user": {
                        "displayName": "Thomas George Thomas",
                        "photoUrl": "https://lh3.googleusercontent.com/a-/AOh14GhRjmtno5yCmJOUjYiFNGHi_xP5YZBJ1ZpWGKsZ=s64",
                        "userId": "09561174857978505545"
                    },
                    "user_tz": -330
                },
                "id": "a8pce96ggYmz",
                "outputId": "2ae7b125-16b8-4a72-f47f-7825577bb2a0"
            },
            "outputs": [],
            "source": "toronto_grouped = toronto_venue_cat.groupby('Neighbourhood').mean().reset_index()\ntoronto_grouped.head()"
        },
        {
            "cell_type": "markdown",
            "metadata": {
                "colab_type": "text",
                "id": "7zyb9rUCjIW7"
            },
            "source": "Let's make a function to get the top most common venue categories"
        },
        {
            "cell_type": "code",
            "execution_count": null,
            "metadata": {
                "colab": {},
                "colab_type": "code",
                "executionInfo": {
                    "elapsed": 1653,
                    "status": "ok",
                    "timestamp": 1597498952947,
                    "user": {
                        "displayName": "Thomas George Thomas",
                        "photoUrl": "https://lh3.googleusercontent.com/a-/AOh14GhRjmtno5yCmJOUjYiFNGHi_xP5YZBJ1ZpWGKsZ=s64",
                        "userId": "09561174857978505545"
                    },
                    "user_tz": -330
                },
                "id": "hd5y_SithLr1"
            },
            "outputs": [],
            "source": "def return_most_common_venues(row, num_top_venues):\n    row_categories = row.iloc[1:]\n    row_categories_sorted = row_categories.sort_values(ascending=False)\n    \n    return row_categories_sorted.index.values[0:num_top_venues]"
        },
        {
            "cell_type": "code",
            "execution_count": null,
            "metadata": {
                "colab": {},
                "colab_type": "code",
                "executionInfo": {
                    "elapsed": 1641,
                    "status": "ok",
                    "timestamp": 1597498952948,
                    "user": {
                        "displayName": "Thomas George Thomas",
                        "photoUrl": "https://lh3.googleusercontent.com/a-/AOh14GhRjmtno5yCmJOUjYiFNGHi_xP5YZBJ1ZpWGKsZ=s64",
                        "userId": "09561174857978505545"
                    },
                    "user_tz": -330
                },
                "id": "66YHle98jbYr"
            },
            "outputs": [],
            "source": "import numpy as np"
        },
        {
            "cell_type": "markdown",
            "metadata": {
                "colab_type": "text",
                "id": "uj_dGPq_jmUs"
            },
            "source": "There are way too many venue categories, we can take the top 10 to cluster the neighbourhoods"
        },
        {
            "cell_type": "code",
            "execution_count": null,
            "metadata": {
                "colab": {
                    "base_uri": "https://localhost:8080/",
                    "height": 374
                },
                "colab_type": "code",
                "executionInfo": {
                    "elapsed": 2014,
                    "status": "ok",
                    "timestamp": 1597498953334,
                    "user": {
                        "displayName": "Thomas George Thomas",
                        "photoUrl": "https://lh3.googleusercontent.com/a-/AOh14GhRjmtno5yCmJOUjYiFNGHi_xP5YZBJ1ZpWGKsZ=s64",
                        "userId": "09561174857978505545"
                    },
                    "user_tz": -330
                },
                "id": "LvRR_p-tjOk0",
                "outputId": "9f2d0deb-94f9-4be9-9f3c-b7e3f6e1b673"
            },
            "outputs": [],
            "source": "num_top_venues = 10\n\nindicators = ['st', 'nd', 'rd']\n\n# create columns according to number of top venues\ncolumns = ['Neighbourhood']\nfor ind in np.arange(num_top_venues):\n    try:\n        columns.append('{}{} Most Common Venue'.format(ind+1, indicators[ind]))\n    except:\n        columns.append('{}th Most Common Venue'.format(ind+1))\n\n# create a new dataframe\nneighborhoods_venues_sorted = pd.DataFrame(columns=columns)\nneighborhoods_venues_sorted['Neighbourhood'] = toronto_grouped['Neighbourhood']\n\nfor ind in np.arange(toronto_grouped.shape[0]):\n    neighborhoods_venues_sorted.iloc[ind, 1:] = return_most_common_venues(toronto_grouped.iloc[ind, :], num_top_venues)\n\nneighborhoods_venues_sorted.head()"
        },
        {
            "cell_type": "markdown",
            "metadata": {
                "colab_type": "text",
                "id": "Tb7msVXLiVMJ"
            },
            "source": "Let's make the model to cluster our Neighbourhoods"
        },
        {
            "cell_type": "code",
            "execution_count": null,
            "metadata": {
                "colab": {},
                "colab_type": "code",
                "executionInfo": {
                    "elapsed": 2924,
                    "status": "ok",
                    "timestamp": 1597498954261,
                    "user": {
                        "displayName": "Thomas George Thomas",
                        "photoUrl": "https://lh3.googleusercontent.com/a-/AOh14GhRjmtno5yCmJOUjYiFNGHi_xP5YZBJ1ZpWGKsZ=s64",
                        "userId": "09561174857978505545"
                    },
                    "user_tz": -330
                },
                "id": "Ju-v31w8k957"
            },
            "outputs": [],
            "source": "# import k-means from clustering stage\nfrom sklearn.cluster import KMeans"
        },
        {
            "cell_type": "code",
            "execution_count": null,
            "metadata": {
                "colab": {
                    "base_uri": "https://localhost:8080/",
                    "height": 68
                },
                "colab_type": "code",
                "executionInfo": {
                    "elapsed": 2913,
                    "status": "ok",
                    "timestamp": 1597498954262,
                    "user": {
                        "displayName": "Thomas George Thomas",
                        "photoUrl": "https://lh3.googleusercontent.com/a-/AOh14GhRjmtno5yCmJOUjYiFNGHi_xP5YZBJ1ZpWGKsZ=s64",
                        "userId": "09561174857978505545"
                    },
                    "user_tz": -330
                },
                "id": "b-Ex22aJiQ4n",
                "outputId": "d35aeb87-195c-471b-b78e-4264d3472bbb"
            },
            "outputs": [],
            "source": "# set number of clusters\nk_num_clusters = 5\n\ntoronto_grouped_clustering = toronto_grouped.drop('Neighbourhood', 1)\n\n# run k-means clustering\nkmeans = KMeans(n_clusters=k_num_clusters, random_state=0).fit(toronto_grouped_clustering)\nkmeans"
        },
        {
            "cell_type": "markdown",
            "metadata": {
                "colab_type": "text",
                "id": "qWvQJXAdkWvL"
            },
            "source": "Checking the labelling of our model"
        },
        {
            "cell_type": "code",
            "execution_count": null,
            "metadata": {
                "colab": {
                    "base_uri": "https://localhost:8080/",
                    "height": 102
                },
                "colab_type": "code",
                "executionInfo": {
                    "elapsed": 2901,
                    "status": "ok",
                    "timestamp": 1597498954264,
                    "user": {
                        "displayName": "Thomas George Thomas",
                        "photoUrl": "https://lh3.googleusercontent.com/a-/AOh14GhRjmtno5yCmJOUjYiFNGHi_xP5YZBJ1ZpWGKsZ=s64",
                        "userId": "09561174857978505545"
                    },
                    "user_tz": -330
                },
                "id": "pb8rJhdIia4c",
                "outputId": "2b060d72-6bb6-454b-b4b3-13c1489fd499"
            },
            "outputs": [],
            "source": "kmeans.labels_[0:100]"
        },
        {
            "cell_type": "markdown",
            "metadata": {
                "colab_type": "text",
                "id": "ysCud9t6kaiX"
            },
            "source": "Let's add the clustering Label column to the top 10 common venue categories"
        },
        {
            "cell_type": "code",
            "execution_count": null,
            "metadata": {
                "colab": {},
                "colab_type": "code",
                "executionInfo": {
                    "elapsed": 2887,
                    "status": "ok",
                    "timestamp": 1597498954265,
                    "user": {
                        "displayName": "Thomas George Thomas",
                        "photoUrl": "https://lh3.googleusercontent.com/a-/AOh14GhRjmtno5yCmJOUjYiFNGHi_xP5YZBJ1ZpWGKsZ=s64",
                        "userId": "09561174857978505545"
                    },
                    "user_tz": -330
                },
                "id": "1H6kDq_widL4"
            },
            "outputs": [],
            "source": "neighborhoods_venues_sorted.insert(0, 'Cluster Labels', kmeans.labels_)"
        },
        {
            "cell_type": "markdown",
            "metadata": {
                "colab_type": "text",
                "id": "7fJeRgRHl6OY"
            },
            "source": "Join toronto_grouped with combined_data on neighbourhood to add latitude & longitude for each neighborhood to prepare it for plotting"
        },
        {
            "cell_type": "code",
            "execution_count": null,
            "metadata": {
                "colab": {
                    "base_uri": "https://localhost:8080/",
                    "height": 445
                },
                "colab_type": "code",
                "executionInfo": {
                    "elapsed": 2876,
                    "status": "ok",
                    "timestamp": 1597498954266,
                    "user": {
                        "displayName": "Thomas George Thomas",
                        "photoUrl": "https://lh3.googleusercontent.com/a-/AOh14GhRjmtno5yCmJOUjYiFNGHi_xP5YZBJ1ZpWGKsZ=s64",
                        "userId": "09561174857978505545"
                    },
                    "user_tz": -330
                },
                "id": "9Y0AlZndliux",
                "outputId": "bb778a75-64fd-432a-ff75-45b305513771"
            },
            "outputs": [],
            "source": "toronto_merged = combined_data\n\ntoronto_merged = toronto_merged.join(neighborhoods_venues_sorted.set_index('Neighbourhood'), on='Neighbourhood')\n\ntoronto_merged.head()"
        },
        {
            "cell_type": "markdown",
            "metadata": {
                "colab_type": "text",
                "id": "KForYHhcmr4q"
            },
            "source": "Drop all the NaN values to prevent data skew"
        },
        {
            "cell_type": "code",
            "execution_count": null,
            "metadata": {
                "colab": {},
                "colab_type": "code",
                "executionInfo": {
                    "elapsed": 2864,
                    "status": "ok",
                    "timestamp": 1597498954267,
                    "user": {
                        "displayName": "Thomas George Thomas",
                        "photoUrl": "https://lh3.googleusercontent.com/a-/AOh14GhRjmtno5yCmJOUjYiFNGHi_xP5YZBJ1ZpWGKsZ=s64",
                        "userId": "09561174857978505545"
                    },
                    "user_tz": -330
                },
                "id": "PgCHHM6XmCKQ"
            },
            "outputs": [],
            "source": "toronto_merged_nonan = toronto_merged.dropna(subset=['Cluster Labels'])"
        },
        {
            "cell_type": "markdown",
            "metadata": {
                "colab_type": "text",
                "id": "B6V4-bolmyQH"
            },
            "source": "Plotting the clusters on the map"
        },
        {
            "cell_type": "code",
            "execution_count": null,
            "metadata": {
                "colab": {},
                "colab_type": "code",
                "executionInfo": {
                    "elapsed": 2853,
                    "status": "ok",
                    "timestamp": 1597498954268,
                    "user": {
                        "displayName": "Thomas George Thomas",
                        "photoUrl": "https://lh3.googleusercontent.com/a-/AOh14GhRjmtno5yCmJOUjYiFNGHi_xP5YZBJ1ZpWGKsZ=s64",
                        "userId": "09561174857978505545"
                    },
                    "user_tz": -330
                },
                "id": "vaZ3xg_Um1yS"
            },
            "outputs": [],
            "source": "import matplotlib.cm as cm\nimport matplotlib.colors as colors"
        },
        {
            "cell_type": "code",
            "execution_count": null,
            "metadata": {
                "colab": {
                    "base_uri": "https://localhost:8080/",
                    "height": 743
                },
                "colab_type": "code",
                "executionInfo": {
                    "elapsed": 983,
                    "status": "ok",
                    "timestamp": 1597500245033,
                    "user": {
                        "displayName": "Thomas George Thomas",
                        "photoUrl": "https://lh3.googleusercontent.com/a-/AOh14GhRjmtno5yCmJOUjYiFNGHi_xP5YZBJ1ZpWGKsZ=s64",
                        "userId": "09561174857978505545"
                    },
                    "user_tz": -330
                },
                "id": "EJbRtYvwmwqf",
                "outputId": "d1581dc6-aa3d-45ea-d1aa-5677c0f69100"
            },
            "outputs": [],
            "source": "map_clusters = folium.Map(location=[latitude, longitude], zoom_start=11)\n\n# set color scheme for the clusters\nx = np.arange(k_num_clusters)\nys = [i + x + (i*x)**2 for i in range(k_num_clusters)]\ncolors_array = cm.rainbow(np.linspace(0, 1, len(ys)))\nrainbow = [colors.rgb2hex(i) for i in colors_array]\n\n# add markers to the map\nmarkers_colors = []\nfor lat, lon, poi, cluster in zip(toronto_merged_nonan['Latitude'], toronto_merged_nonan['Longitude'], toronto_merged_nonan['Neighbourhood'], toronto_merged_nonan['Cluster Labels']):\n    label = folium.Popup('Cluster ' + str(int(cluster) +1) + '\\n' + str(poi) , parse_html=True)\n    folium.CircleMarker(\n        [lat, lon],\n        radius=5,\n        popup=label,\n        color=rainbow[int(cluster-1)],\n        fill=True,\n        fill_color=rainbow[int(cluster-1)]\n        ).add_to(map_clusters)\n        \nmap_clusters"
        },
        {
            "cell_type": "markdown",
            "metadata": {
                "colab_type": "text",
                "id": "YYxLDsnTnixy"
            },
            "source": "Let's verify each of our clusters\n\nCluster 1"
        },
        {
            "cell_type": "code",
            "execution_count": null,
            "metadata": {
                "colab": {
                    "base_uri": "https://localhost:8080/",
                    "height": 623
                },
                "colab_type": "code",
                "executionInfo": {
                    "elapsed": 3490,
                    "status": "ok",
                    "timestamp": 1597498954938,
                    "user": {
                        "displayName": "Thomas George Thomas",
                        "photoUrl": "https://lh3.googleusercontent.com/a-/AOh14GhRjmtno5yCmJOUjYiFNGHi_xP5YZBJ1ZpWGKsZ=s64",
                        "userId": "09561174857978505545"
                    },
                    "user_tz": -330
                },
                "id": "9cPDyS3Tm8Lb",
                "outputId": "fad08da8-2be8-4c50-f01c-a862872510bf"
            },
            "outputs": [],
            "source": "toronto_merged_nonan.loc[toronto_merged_nonan['Cluster Labels'] == 0, toronto_merged_nonan.columns[[1] + list(range(5, toronto_merged_nonan.shape[1]))]]"
        },
        {
            "cell_type": "markdown",
            "metadata": {
                "colab_type": "text",
                "id": "BaX56fJNobro"
            },
            "source": "Cluster 2"
        },
        {
            "cell_type": "code",
            "execution_count": null,
            "metadata": {
                "colab": {
                    "base_uri": "https://localhost:8080/",
                    "height": 405
                },
                "colab_type": "code",
                "executionInfo": {
                    "elapsed": 3476,
                    "status": "ok",
                    "timestamp": 1597498954942,
                    "user": {
                        "displayName": "Thomas George Thomas",
                        "photoUrl": "https://lh3.googleusercontent.com/a-/AOh14GhRjmtno5yCmJOUjYiFNGHi_xP5YZBJ1ZpWGKsZ=s64",
                        "userId": "09561174857978505545"
                    },
                    "user_tz": -330
                },
                "id": "edT5MG36no8-",
                "outputId": "548c961d-9d4f-4b4b-9279-9cefd8bf7da2"
            },
            "outputs": [],
            "source": "toronto_merged_nonan.loc[toronto_merged_nonan['Cluster Labels'] == 1, toronto_merged_nonan.columns[[1] + list(range(5, toronto_merged_nonan.shape[1]))]]"
        },
        {
            "cell_type": "markdown",
            "metadata": {
                "colab_type": "text",
                "id": "IMz4-VLUodmR"
            },
            "source": "Cluster 3"
        },
        {
            "cell_type": "code",
            "execution_count": null,
            "metadata": {
                "colab": {
                    "base_uri": "https://localhost:8080/",
                    "height": 552
                },
                "colab_type": "code",
                "executionInfo": {
                    "elapsed": 3459,
                    "status": "ok",
                    "timestamp": 1597498954944,
                    "user": {
                        "displayName": "Thomas George Thomas",
                        "photoUrl": "https://lh3.googleusercontent.com/a-/AOh14GhRjmtno5yCmJOUjYiFNGHi_xP5YZBJ1ZpWGKsZ=s64",
                        "userId": "09561174857978505545"
                    },
                    "user_tz": -330
                },
                "id": "5h0CRKProHPF",
                "outputId": "b69c1a14-a08a-46f7-c2d1-7b30956e5cc2"
            },
            "outputs": [],
            "source": "toronto_merged_nonan.loc[toronto_merged_nonan['Cluster Labels'] == 2, toronto_merged_nonan.columns[[1] + list(range(5, toronto_merged_nonan.shape[1]))]]"
        },
        {
            "cell_type": "markdown",
            "metadata": {
                "colab_type": "text",
                "id": "kf6OOohdof3D"
            },
            "source": "Cluster 4"
        },
        {
            "cell_type": "code",
            "execution_count": null,
            "metadata": {
                "colab": {
                    "base_uri": "https://localhost:8080/",
                    "height": 213
                },
                "colab_type": "code",
                "executionInfo": {
                    "elapsed": 3441,
                    "status": "ok",
                    "timestamp": 1597498954945,
                    "user": {
                        "displayName": "Thomas George Thomas",
                        "photoUrl": "https://lh3.googleusercontent.com/a-/AOh14GhRjmtno5yCmJOUjYiFNGHi_xP5YZBJ1ZpWGKsZ=s64",
                        "userId": "09561174857978505545"
                    },
                    "user_tz": -330
                },
                "id": "wyousc8YoLVS",
                "outputId": "cba7f1a2-8668-4f43-fde2-1e17c6236a25"
            },
            "outputs": [],
            "source": "toronto_merged_nonan.loc[toronto_merged_nonan['Cluster Labels'] == 3, toronto_merged_nonan.columns[[1] + list(range(5, toronto_merged_nonan.shape[1]))]]"
        },
        {
            "cell_type": "markdown",
            "metadata": {
                "colab_type": "text",
                "id": "EWa4EO03ohOu"
            },
            "source": "Cluster 5"
        },
        {
            "cell_type": "code",
            "execution_count": null,
            "metadata": {
                "colab": {
                    "base_uri": "https://localhost:8080/",
                    "height": 148
                },
                "colab_type": "code",
                "executionInfo": {
                    "elapsed": 3434,
                    "status": "ok",
                    "timestamp": 1597498954954,
                    "user": {
                        "displayName": "Thomas George Thomas",
                        "photoUrl": "https://lh3.googleusercontent.com/a-/AOh14GhRjmtno5yCmJOUjYiFNGHi_xP5YZBJ1ZpWGKsZ=s64",
                        "userId": "09561174857978505545"
                    },
                    "user_tz": -330
                },
                "id": "QODsaVbKoP5V",
                "outputId": "86cd9f8d-5af8-41de-db69-12ea208bdaf2"
            },
            "outputs": [],
            "source": "toronto_merged_nonan.loc[toronto_merged_nonan['Cluster Labels'] == 4, toronto_merged_nonan.columns[[1] + list(range(5, toronto_merged_nonan.shape[1]))]]"
        },
        {
            "cell_type": "markdown",
            "metadata": {
                "colab_type": "text",
                "id": "kvcdaN0poiqu"
            },
            "source": "We have successfully cluster Toronto neighbourhood based on venue categories!"
        }
    ],
    "metadata": {
        "colab": {
            "authorship_tag": "ABX9TyPdAUb3um3slFVIiL8/17K0",
            "collapsed_sections": [],
            "name": "Applied_Capstone_Week_3_Assignment.ipynb",
            "provenance": []
        },
        "kernelspec": {
            "display_name": "Python 3.7",
            "language": "python",
            "name": "python3"
        },
        "language_info": {
            "codemirror_mode": {
                "name": "ipython",
                "version": 3
            },
            "file_extension": ".py",
            "mimetype": "text/x-python",
            "name": "python",
            "nbconvert_exporter": "python",
            "pygments_lexer": "ipython3",
            "version": "3.7.9"
        }
    },
    "nbformat": 4,
    "nbformat_minor": 1
}